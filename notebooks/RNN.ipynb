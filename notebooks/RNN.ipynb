{
 "cells": [
  {
   "cell_type": "code",
   "execution_count": 14,
   "metadata": {},
   "outputs": [],
   "source": [
    "import joblib\n",
    "import numpy as np\n",
    "from sklearn.model_selection import train_test_split\n",
    "from sklearn.preprocessing import LabelEncoder, StandardScaler\n",
    "from tensorflow.keras.callbacks import EarlyStopping\n",
    "from tensorflow.keras.layers import GRU, LSTM, Dense, SimpleRNN\n",
    "from tensorflow.keras.models import Sequential"
   ]
  },
  {
   "cell_type": "code",
   "execution_count": 15,
   "metadata": {},
   "outputs": [],
   "source": [
    "mmn_EGG_time_series = joblib.load(\"../features/mmnEEGtimeSeries.sav\")"
   ]
  },
  {
   "cell_type": "code",
   "execution_count": 16,
   "metadata": {},
   "outputs": [],
   "source": [
    "target = mmn_EGG_time_series[\"cateory\"].to_numpy()"
   ]
  },
  {
   "cell_type": "code",
   "execution_count": 17,
   "metadata": {},
   "outputs": [],
   "source": [
    "data = []\n",
    "for key, value in mmn_EGG_time_series[\"mmn_eeg\"].items():\n",
    "    data.append(value[\"1000Hz\"])\n",
    "\n",
    "data = np.array(data)"
   ]
  },
  {
   "cell_type": "code",
   "execution_count": 19,
   "metadata": {},
   "outputs": [
    {
     "data": {
      "text/plain": [
       "array([1, 1, 0, 0, 0, 0, 0, 0, 1, 1, 1, 1, 0, 0, 1, 1, 0, 0, 1, 1, 1, 1,\n",
       "       1, 0, 0, 1, 1, 0, 0, 0, 0, 0, 0, 0, 0, 0, 1, 1, 0, 0, 0, 0, 0, 1,\n",
       "       1])"
      ]
     },
     "execution_count": 19,
     "metadata": {},
     "output_type": "execute_result"
    }
   ],
   "source": [
    "encoder = LabelEncoder()\n",
    "labels = encoder.fit_transform(target)\n",
    "labels"
   ]
  },
  {
   "cell_type": "code",
   "execution_count": 20,
   "metadata": {},
   "outputs": [
    {
     "name": "stdout",
     "output_type": "stream",
     "text": [
      "Epoch 1/10\n",
      "5/5 [==============================] - 6s 437ms/step - loss: 0.6885 - accuracy: 0.5000 - val_loss: 0.7132 - val_accuracy: 0.5556\n",
      "Epoch 2/10\n",
      "5/5 [==============================] - 0s 24ms/step - loss: 0.6173 - accuracy: 0.6667 - val_loss: 0.7122 - val_accuracy: 0.5556\n",
      "Epoch 3/10\n",
      "5/5 [==============================] - 0s 33ms/step - loss: 0.5621 - accuracy: 0.6944 - val_loss: 0.7005 - val_accuracy: 0.4444\n",
      "Epoch 4/10\n",
      "5/5 [==============================] - 0s 30ms/step - loss: 0.5248 - accuracy: 0.8611 - val_loss: 0.6877 - val_accuracy: 0.3333\n",
      "Epoch 5/10\n",
      "5/5 [==============================] - 0s 31ms/step - loss: 0.4819 - accuracy: 0.8889 - val_loss: 0.6795 - val_accuracy: 0.3333\n",
      "Epoch 6/10\n",
      "5/5 [==============================] - 0s 32ms/step - loss: 0.4418 - accuracy: 0.9167 - val_loss: 0.6685 - val_accuracy: 0.5556\n",
      "Epoch 7/10\n",
      "5/5 [==============================] - 0s 29ms/step - loss: 0.4049 - accuracy: 0.9444 - val_loss: 0.6542 - val_accuracy: 0.5556\n",
      "Epoch 8/10\n",
      "5/5 [==============================] - 1s 143ms/step - loss: 0.3579 - accuracy: 0.9722 - val_loss: 0.6418 - val_accuracy: 0.6667\n",
      "Epoch 9/10\n",
      "5/5 [==============================] - 0s 73ms/step - loss: 0.3137 - accuracy: 0.9722 - val_loss: 0.6334 - val_accuracy: 0.6667\n",
      "Epoch 10/10\n",
      "5/5 [==============================] - 0s 51ms/step - loss: 0.2746 - accuracy: 0.9722 - val_loss: 0.6329 - val_accuracy: 0.5556\n"
     ]
    },
    {
     "ename": "UnimplementedError",
     "evalue": "Graph execution error:\n\nDetected at node binary_crossentropy/Cast defined at (most recent call last):\n  File \"<frozen runpy>\", line 198, in _run_module_as_main\n\n  File \"<frozen runpy>\", line 88, in _run_code\n\n  File \"c:\\Users\\Victor Momodu\\Documents\\Programming\\Machine Learning\\Code\\AI-Driven-EEG-Schizophrenia-Diagnosis\\.venv\\Lib\\site-packages\\ipykernel_launcher.py\", line 17, in <module>\n\n  File \"c:\\Users\\Victor Momodu\\Documents\\Programming\\Machine Learning\\Code\\AI-Driven-EEG-Schizophrenia-Diagnosis\\.venv\\Lib\\site-packages\\traitlets\\config\\application.py\", line 1077, in launch_instance\n\n  File \"c:\\Users\\Victor Momodu\\Documents\\Programming\\Machine Learning\\Code\\AI-Driven-EEG-Schizophrenia-Diagnosis\\.venv\\Lib\\site-packages\\ipykernel\\kernelapp.py\", line 739, in start\n\n  File \"c:\\Users\\Victor Momodu\\Documents\\Programming\\Machine Learning\\Code\\AI-Driven-EEG-Schizophrenia-Diagnosis\\.venv\\Lib\\site-packages\\tornado\\platform\\asyncio.py\", line 205, in start\n\n  File \"C:\\Python311\\Lib\\asyncio\\base_events.py\", line 607, in run_forever\n\n  File \"C:\\Python311\\Lib\\asyncio\\base_events.py\", line 1922, in _run_once\n\n  File \"C:\\Python311\\Lib\\asyncio\\events.py\", line 80, in _run\n\n  File \"c:\\Users\\Victor Momodu\\Documents\\Programming\\Machine Learning\\Code\\AI-Driven-EEG-Schizophrenia-Diagnosis\\.venv\\Lib\\site-packages\\ipykernel\\kernelbase.py\", line 529, in dispatch_queue\n\n  File \"c:\\Users\\Victor Momodu\\Documents\\Programming\\Machine Learning\\Code\\AI-Driven-EEG-Schizophrenia-Diagnosis\\.venv\\Lib\\site-packages\\ipykernel\\kernelbase.py\", line 518, in process_one\n\n  File \"c:\\Users\\Victor Momodu\\Documents\\Programming\\Machine Learning\\Code\\AI-Driven-EEG-Schizophrenia-Diagnosis\\.venv\\Lib\\site-packages\\ipykernel\\kernelbase.py\", line 424, in dispatch_shell\n\n  File \"c:\\Users\\Victor Momodu\\Documents\\Programming\\Machine Learning\\Code\\AI-Driven-EEG-Schizophrenia-Diagnosis\\.venv\\Lib\\site-packages\\ipykernel\\kernelbase.py\", line 766, in execute_request\n\n  File \"c:\\Users\\Victor Momodu\\Documents\\Programming\\Machine Learning\\Code\\AI-Driven-EEG-Schizophrenia-Diagnosis\\.venv\\Lib\\site-packages\\ipykernel\\ipkernel.py\", line 429, in do_execute\n\n  File \"c:\\Users\\Victor Momodu\\Documents\\Programming\\Machine Learning\\Code\\AI-Driven-EEG-Schizophrenia-Diagnosis\\.venv\\Lib\\site-packages\\ipykernel\\zmqshell.py\", line 549, in run_cell\n\n  File \"c:\\Users\\Victor Momodu\\Documents\\Programming\\Machine Learning\\Code\\AI-Driven-EEG-Schizophrenia-Diagnosis\\.venv\\Lib\\site-packages\\IPython\\core\\interactiveshell.py\", line 3048, in run_cell\n\n  File \"c:\\Users\\Victor Momodu\\Documents\\Programming\\Machine Learning\\Code\\AI-Driven-EEG-Schizophrenia-Diagnosis\\.venv\\Lib\\site-packages\\IPython\\core\\interactiveshell.py\", line 3103, in _run_cell\n\n  File \"c:\\Users\\Victor Momodu\\Documents\\Programming\\Machine Learning\\Code\\AI-Driven-EEG-Schizophrenia-Diagnosis\\.venv\\Lib\\site-packages\\IPython\\core\\async_helpers.py\", line 129, in _pseudo_sync_runner\n\n  File \"c:\\Users\\Victor Momodu\\Documents\\Programming\\Machine Learning\\Code\\AI-Driven-EEG-Schizophrenia-Diagnosis\\.venv\\Lib\\site-packages\\IPython\\core\\interactiveshell.py\", line 3308, in run_cell_async\n\n  File \"c:\\Users\\Victor Momodu\\Documents\\Programming\\Machine Learning\\Code\\AI-Driven-EEG-Schizophrenia-Diagnosis\\.venv\\Lib\\site-packages\\IPython\\core\\interactiveshell.py\", line 3490, in run_ast_nodes\n\n  File \"c:\\Users\\Victor Momodu\\Documents\\Programming\\Machine Learning\\Code\\AI-Driven-EEG-Schizophrenia-Diagnosis\\.venv\\Lib\\site-packages\\IPython\\core\\interactiveshell.py\", line 3550, in run_code\n\n  File \"C:\\Users\\Victor Momodu\\AppData\\Local\\Temp\\ipykernel_16596\\1738237550.py\", line 65, in <module>\n\n  File \"c:\\Users\\Victor Momodu\\Documents\\Programming\\Machine Learning\\Code\\AI-Driven-EEG-Schizophrenia-Diagnosis\\.venv\\Lib\\site-packages\\keras\\src\\utils\\traceback_utils.py\", line 65, in error_handler\n\n  File \"c:\\Users\\Victor Momodu\\Documents\\Programming\\Machine Learning\\Code\\AI-Driven-EEG-Schizophrenia-Diagnosis\\.venv\\Lib\\site-packages\\keras\\src\\engine\\training.py\", line 2296, in evaluate\n\n  File \"c:\\Users\\Victor Momodu\\Documents\\Programming\\Machine Learning\\Code\\AI-Driven-EEG-Schizophrenia-Diagnosis\\.venv\\Lib\\site-packages\\keras\\src\\engine\\training.py\", line 4108, in run_step\n\n  File \"c:\\Users\\Victor Momodu\\Documents\\Programming\\Machine Learning\\Code\\AI-Driven-EEG-Schizophrenia-Diagnosis\\.venv\\Lib\\site-packages\\keras\\src\\engine\\training.py\", line 2066, in test_function\n\n  File \"c:\\Users\\Victor Momodu\\Documents\\Programming\\Machine Learning\\Code\\AI-Driven-EEG-Schizophrenia-Diagnosis\\.venv\\Lib\\site-packages\\keras\\src\\engine\\training.py\", line 2049, in step_function\n\n  File \"c:\\Users\\Victor Momodu\\Documents\\Programming\\Machine Learning\\Code\\AI-Driven-EEG-Schizophrenia-Diagnosis\\.venv\\Lib\\site-packages\\keras\\src\\engine\\training.py\", line 2037, in run_step\n\n  File \"c:\\Users\\Victor Momodu\\Documents\\Programming\\Machine Learning\\Code\\AI-Driven-EEG-Schizophrenia-Diagnosis\\.venv\\Lib\\site-packages\\keras\\src\\engine\\training.py\", line 1919, in test_step\n\n  File \"c:\\Users\\Victor Momodu\\Documents\\Programming\\Machine Learning\\Code\\AI-Driven-EEG-Schizophrenia-Diagnosis\\.venv\\Lib\\site-packages\\keras\\src\\engine\\training.py\", line 1209, in compute_loss\n\n  File \"c:\\Users\\Victor Momodu\\Documents\\Programming\\Machine Learning\\Code\\AI-Driven-EEG-Schizophrenia-Diagnosis\\.venv\\Lib\\site-packages\\keras\\src\\engine\\compile_utils.py\", line 277, in __call__\n\n  File \"c:\\Users\\Victor Momodu\\Documents\\Programming\\Machine Learning\\Code\\AI-Driven-EEG-Schizophrenia-Diagnosis\\.venv\\Lib\\site-packages\\keras\\src\\losses.py\", line 143, in __call__\n\n  File \"c:\\Users\\Victor Momodu\\Documents\\Programming\\Machine Learning\\Code\\AI-Driven-EEG-Schizophrenia-Diagnosis\\.venv\\Lib\\site-packages\\keras\\src\\losses.py\", line 270, in call\n\n  File \"c:\\Users\\Victor Momodu\\Documents\\Programming\\Machine Learning\\Code\\AI-Driven-EEG-Schizophrenia-Diagnosis\\.venv\\Lib\\site-packages\\keras\\src\\losses.py\", line 2521, in binary_crossentropy\n\nCast string to float is not supported\n\t [[{{node binary_crossentropy/Cast}}]] [Op:__inference_test_function_14325]",
     "output_type": "error",
     "traceback": [
      "\u001b[1;31m---------------------------------------------------------------------------\u001b[0m",
      "\u001b[1;31mUnimplementedError\u001b[0m                        Traceback (most recent call last)",
      "Cell \u001b[1;32mIn[20], line 65\u001b[0m\n\u001b[0;32m     62\u001b[0m model \u001b[38;5;241m=\u001b[39m build_lstm_model(data, labels)\n\u001b[0;32m     64\u001b[0m \u001b[38;5;66;03m# Evaluate the model\u001b[39;00m\n\u001b[1;32m---> 65\u001b[0m \u001b[43mmodel\u001b[49m\u001b[38;5;241;43m.\u001b[39;49m\u001b[43mevaluate\u001b[49m\u001b[43m(\u001b[49m\u001b[43mX_test_scaled\u001b[49m\u001b[38;5;241;43m.\u001b[39;49m\u001b[43mreshape\u001b[49m\u001b[43m(\u001b[49m\u001b[43mX_test\u001b[49m\u001b[38;5;241;43m.\u001b[39;49m\u001b[43mshape\u001b[49m\u001b[43m)\u001b[49m\u001b[43m,\u001b[49m\u001b[43m \u001b[49m\u001b[43my_test\u001b[49m\u001b[43m)\u001b[49m\n\u001b[0;32m     67\u001b[0m \u001b[38;5;66;03m# Make predictions\u001b[39;00m\n\u001b[0;32m     68\u001b[0m predictions \u001b[38;5;241m=\u001b[39m model\u001b[38;5;241m.\u001b[39mpredict(X_test_scaled\u001b[38;5;241m.\u001b[39mreshape(X_test\u001b[38;5;241m.\u001b[39mshape))\n",
      "File \u001b[1;32mc:\\Users\\Victor Momodu\\Documents\\Programming\\Machine Learning\\Code\\AI-Driven-EEG-Schizophrenia-Diagnosis\\.venv\\Lib\\site-packages\\keras\\src\\utils\\traceback_utils.py:70\u001b[0m, in \u001b[0;36mfilter_traceback.<locals>.error_handler\u001b[1;34m(*args, **kwargs)\u001b[0m\n\u001b[0;32m     67\u001b[0m     filtered_tb \u001b[38;5;241m=\u001b[39m _process_traceback_frames(e\u001b[38;5;241m.\u001b[39m__traceback__)\n\u001b[0;32m     68\u001b[0m     \u001b[38;5;66;03m# To get the full stack trace, call:\u001b[39;00m\n\u001b[0;32m     69\u001b[0m     \u001b[38;5;66;03m# `tf.debugging.disable_traceback_filtering()`\u001b[39;00m\n\u001b[1;32m---> 70\u001b[0m     \u001b[38;5;28;01mraise\u001b[39;00m e\u001b[38;5;241m.\u001b[39mwith_traceback(filtered_tb) \u001b[38;5;28;01mfrom\u001b[39;00m \u001b[38;5;28;01mNone\u001b[39;00m\n\u001b[0;32m     71\u001b[0m \u001b[38;5;28;01mfinally\u001b[39;00m:\n\u001b[0;32m     72\u001b[0m     \u001b[38;5;28;01mdel\u001b[39;00m filtered_tb\n",
      "File \u001b[1;32mc:\\Users\\Victor Momodu\\Documents\\Programming\\Machine Learning\\Code\\AI-Driven-EEG-Schizophrenia-Diagnosis\\.venv\\Lib\\site-packages\\tensorflow\\python\\eager\\execute.py:53\u001b[0m, in \u001b[0;36mquick_execute\u001b[1;34m(op_name, num_outputs, inputs, attrs, ctx, name)\u001b[0m\n\u001b[0;32m     51\u001b[0m \u001b[38;5;28;01mtry\u001b[39;00m:\n\u001b[0;32m     52\u001b[0m   ctx\u001b[38;5;241m.\u001b[39mensure_initialized()\n\u001b[1;32m---> 53\u001b[0m   tensors \u001b[38;5;241m=\u001b[39m pywrap_tfe\u001b[38;5;241m.\u001b[39mTFE_Py_Execute(ctx\u001b[38;5;241m.\u001b[39m_handle, device_name, op_name,\n\u001b[0;32m     54\u001b[0m                                       inputs, attrs, num_outputs)\n\u001b[0;32m     55\u001b[0m \u001b[38;5;28;01mexcept\u001b[39;00m core\u001b[38;5;241m.\u001b[39m_NotOkStatusException \u001b[38;5;28;01mas\u001b[39;00m e:\n\u001b[0;32m     56\u001b[0m   \u001b[38;5;28;01mif\u001b[39;00m name \u001b[38;5;129;01mis\u001b[39;00m \u001b[38;5;129;01mnot\u001b[39;00m \u001b[38;5;28;01mNone\u001b[39;00m:\n",
      "\u001b[1;31mUnimplementedError\u001b[0m: Graph execution error:\n\nDetected at node binary_crossentropy/Cast defined at (most recent call last):\n  File \"<frozen runpy>\", line 198, in _run_module_as_main\n\n  File \"<frozen runpy>\", line 88, in _run_code\n\n  File \"c:\\Users\\Victor Momodu\\Documents\\Programming\\Machine Learning\\Code\\AI-Driven-EEG-Schizophrenia-Diagnosis\\.venv\\Lib\\site-packages\\ipykernel_launcher.py\", line 17, in <module>\n\n  File \"c:\\Users\\Victor Momodu\\Documents\\Programming\\Machine Learning\\Code\\AI-Driven-EEG-Schizophrenia-Diagnosis\\.venv\\Lib\\site-packages\\traitlets\\config\\application.py\", line 1077, in launch_instance\n\n  File \"c:\\Users\\Victor Momodu\\Documents\\Programming\\Machine Learning\\Code\\AI-Driven-EEG-Schizophrenia-Diagnosis\\.venv\\Lib\\site-packages\\ipykernel\\kernelapp.py\", line 739, in start\n\n  File \"c:\\Users\\Victor Momodu\\Documents\\Programming\\Machine Learning\\Code\\AI-Driven-EEG-Schizophrenia-Diagnosis\\.venv\\Lib\\site-packages\\tornado\\platform\\asyncio.py\", line 205, in start\n\n  File \"C:\\Python311\\Lib\\asyncio\\base_events.py\", line 607, in run_forever\n\n  File \"C:\\Python311\\Lib\\asyncio\\base_events.py\", line 1922, in _run_once\n\n  File \"C:\\Python311\\Lib\\asyncio\\events.py\", line 80, in _run\n\n  File \"c:\\Users\\Victor Momodu\\Documents\\Programming\\Machine Learning\\Code\\AI-Driven-EEG-Schizophrenia-Diagnosis\\.venv\\Lib\\site-packages\\ipykernel\\kernelbase.py\", line 529, in dispatch_queue\n\n  File \"c:\\Users\\Victor Momodu\\Documents\\Programming\\Machine Learning\\Code\\AI-Driven-EEG-Schizophrenia-Diagnosis\\.venv\\Lib\\site-packages\\ipykernel\\kernelbase.py\", line 518, in process_one\n\n  File \"c:\\Users\\Victor Momodu\\Documents\\Programming\\Machine Learning\\Code\\AI-Driven-EEG-Schizophrenia-Diagnosis\\.venv\\Lib\\site-packages\\ipykernel\\kernelbase.py\", line 424, in dispatch_shell\n\n  File \"c:\\Users\\Victor Momodu\\Documents\\Programming\\Machine Learning\\Code\\AI-Driven-EEG-Schizophrenia-Diagnosis\\.venv\\Lib\\site-packages\\ipykernel\\kernelbase.py\", line 766, in execute_request\n\n  File \"c:\\Users\\Victor Momodu\\Documents\\Programming\\Machine Learning\\Code\\AI-Driven-EEG-Schizophrenia-Diagnosis\\.venv\\Lib\\site-packages\\ipykernel\\ipkernel.py\", line 429, in do_execute\n\n  File \"c:\\Users\\Victor Momodu\\Documents\\Programming\\Machine Learning\\Code\\AI-Driven-EEG-Schizophrenia-Diagnosis\\.venv\\Lib\\site-packages\\ipykernel\\zmqshell.py\", line 549, in run_cell\n\n  File \"c:\\Users\\Victor Momodu\\Documents\\Programming\\Machine Learning\\Code\\AI-Driven-EEG-Schizophrenia-Diagnosis\\.venv\\Lib\\site-packages\\IPython\\core\\interactiveshell.py\", line 3048, in run_cell\n\n  File \"c:\\Users\\Victor Momodu\\Documents\\Programming\\Machine Learning\\Code\\AI-Driven-EEG-Schizophrenia-Diagnosis\\.venv\\Lib\\site-packages\\IPython\\core\\interactiveshell.py\", line 3103, in _run_cell\n\n  File \"c:\\Users\\Victor Momodu\\Documents\\Programming\\Machine Learning\\Code\\AI-Driven-EEG-Schizophrenia-Diagnosis\\.venv\\Lib\\site-packages\\IPython\\core\\async_helpers.py\", line 129, in _pseudo_sync_runner\n\n  File \"c:\\Users\\Victor Momodu\\Documents\\Programming\\Machine Learning\\Code\\AI-Driven-EEG-Schizophrenia-Diagnosis\\.venv\\Lib\\site-packages\\IPython\\core\\interactiveshell.py\", line 3308, in run_cell_async\n\n  File \"c:\\Users\\Victor Momodu\\Documents\\Programming\\Machine Learning\\Code\\AI-Driven-EEG-Schizophrenia-Diagnosis\\.venv\\Lib\\site-packages\\IPython\\core\\interactiveshell.py\", line 3490, in run_ast_nodes\n\n  File \"c:\\Users\\Victor Momodu\\Documents\\Programming\\Machine Learning\\Code\\AI-Driven-EEG-Schizophrenia-Diagnosis\\.venv\\Lib\\site-packages\\IPython\\core\\interactiveshell.py\", line 3550, in run_code\n\n  File \"C:\\Users\\Victor Momodu\\AppData\\Local\\Temp\\ipykernel_16596\\1738237550.py\", line 65, in <module>\n\n  File \"c:\\Users\\Victor Momodu\\Documents\\Programming\\Machine Learning\\Code\\AI-Driven-EEG-Schizophrenia-Diagnosis\\.venv\\Lib\\site-packages\\keras\\src\\utils\\traceback_utils.py\", line 65, in error_handler\n\n  File \"c:\\Users\\Victor Momodu\\Documents\\Programming\\Machine Learning\\Code\\AI-Driven-EEG-Schizophrenia-Diagnosis\\.venv\\Lib\\site-packages\\keras\\src\\engine\\training.py\", line 2296, in evaluate\n\n  File \"c:\\Users\\Victor Momodu\\Documents\\Programming\\Machine Learning\\Code\\AI-Driven-EEG-Schizophrenia-Diagnosis\\.venv\\Lib\\site-packages\\keras\\src\\engine\\training.py\", line 4108, in run_step\n\n  File \"c:\\Users\\Victor Momodu\\Documents\\Programming\\Machine Learning\\Code\\AI-Driven-EEG-Schizophrenia-Diagnosis\\.venv\\Lib\\site-packages\\keras\\src\\engine\\training.py\", line 2066, in test_function\n\n  File \"c:\\Users\\Victor Momodu\\Documents\\Programming\\Machine Learning\\Code\\AI-Driven-EEG-Schizophrenia-Diagnosis\\.venv\\Lib\\site-packages\\keras\\src\\engine\\training.py\", line 2049, in step_function\n\n  File \"c:\\Users\\Victor Momodu\\Documents\\Programming\\Machine Learning\\Code\\AI-Driven-EEG-Schizophrenia-Diagnosis\\.venv\\Lib\\site-packages\\keras\\src\\engine\\training.py\", line 2037, in run_step\n\n  File \"c:\\Users\\Victor Momodu\\Documents\\Programming\\Machine Learning\\Code\\AI-Driven-EEG-Schizophrenia-Diagnosis\\.venv\\Lib\\site-packages\\keras\\src\\engine\\training.py\", line 1919, in test_step\n\n  File \"c:\\Users\\Victor Momodu\\Documents\\Programming\\Machine Learning\\Code\\AI-Driven-EEG-Schizophrenia-Diagnosis\\.venv\\Lib\\site-packages\\keras\\src\\engine\\training.py\", line 1209, in compute_loss\n\n  File \"c:\\Users\\Victor Momodu\\Documents\\Programming\\Machine Learning\\Code\\AI-Driven-EEG-Schizophrenia-Diagnosis\\.venv\\Lib\\site-packages\\keras\\src\\engine\\compile_utils.py\", line 277, in __call__\n\n  File \"c:\\Users\\Victor Momodu\\Documents\\Programming\\Machine Learning\\Code\\AI-Driven-EEG-Schizophrenia-Diagnosis\\.venv\\Lib\\site-packages\\keras\\src\\losses.py\", line 143, in __call__\n\n  File \"c:\\Users\\Victor Momodu\\Documents\\Programming\\Machine Learning\\Code\\AI-Driven-EEG-Schizophrenia-Diagnosis\\.venv\\Lib\\site-packages\\keras\\src\\losses.py\", line 270, in call\n\n  File \"c:\\Users\\Victor Momodu\\Documents\\Programming\\Machine Learning\\Code\\AI-Driven-EEG-Schizophrenia-Diagnosis\\.venv\\Lib\\site-packages\\keras\\src\\losses.py\", line 2521, in binary_crossentropy\n\nCast string to float is not supported\n\t [[{{node binary_crossentropy/Cast}}]] [Op:__inference_test_function_14325]"
     ]
    }
   ],
   "source": [
    "def build_lstm_model(data, target, test_size=0.2, random_state=42):\n",
    "    \"\"\"\n",
    "    Builds and trains an LSTM model for time series prediction.\n",
    "\n",
    "    Args:\n",
    "        data: The input time series data.\n",
    "        target: The target variable to be predicted.\n",
    "        test_size: The proportion of data to be used for testing.\n",
    "        random_state: The random seed for splitting the data.\n",
    "\n",
    "    Returns:\n",
    "        A trained LSTM model.\n",
    "    \"\"\"\n",
    "\n",
    "    # Split the data into training and testing sets\n",
    "    X_train, X_test, y_train, y_test = train_test_split(\n",
    "        data,\n",
    "        target,\n",
    "        test_size=test_size,\n",
    "        random_state=random_state,\n",
    "    )\n",
    "\n",
    "    # Standardize the data\n",
    "    scaler = StandardScaler()\n",
    "    X_train_scaled = scaler.fit_transform(X_train.reshape(-1, X_train.shape[2]))\n",
    "    X_test_scaled = scaler.transform(X_test.reshape(-1, X_test.shape[2]))\n",
    "\n",
    "    # Define LSTM model\n",
    "    lstm_model = Sequential()\n",
    "    lstm_model.add(\n",
    "        LSTM(\n",
    "            units=50,\n",
    "            return_sequences=False,\n",
    "            input_shape=(X_train.shape[1], X_train.shape[2]),\n",
    "        )\n",
    "    )\n",
    "    lstm_model.add(Dense(units=1, activation=\"sigmoid\"))\n",
    "\n",
    "    loss_fn = \"binary_crossentropy\"\n",
    "    optimizer = \"adam\"\n",
    "\n",
    "    # Compile the model\n",
    "    lstm_model.compile(loss=loss_fn, optimizer=optimizer, metrics=[\"accuracy\"])\n",
    "\n",
    "    # Add early stopping to prevent overfitting\n",
    "    early_stopping = EarlyStopping(monitor=\"val_loss\", patience=3)\n",
    "\n",
    "    # Train the model\n",
    "    lstm_model.fit(\n",
    "        X_train_scaled.reshape(X_train.shape),\n",
    "        y_train,\n",
    "        epochs=10,\n",
    "        batch_size=8,\n",
    "        validation_data=(X_test_scaled.reshape(X_test.shape), y_test),\n",
    "        callbacks=[early_stopping],\n",
    "    )\n",
    "\n",
    "    return lstm_model\n",
    "\n",
    "\n",
    "# Train the model\n",
    "model = build_lstm_model(data, labels)\n",
    "\n",
    "# Evaluate the model\n",
    "model.evaluate(X_test_scaled.reshape(X_test.shape), y_test)\n",
    "\n",
    "# Make predictions\n",
    "predictions = model.predict(X_test_scaled.reshape(X_test.shape))"
   ]
  }
 ],
 "metadata": {
  "kernelspec": {
   "display_name": ".venv",
   "language": "python",
   "name": "python3"
  },
  "language_info": {
   "codemirror_mode": {
    "name": "ipython",
    "version": 3
   },
   "file_extension": ".py",
   "mimetype": "text/x-python",
   "name": "python",
   "nbconvert_exporter": "python",
   "pygments_lexer": "ipython3",
   "version": "3.11.4"
  }
 },
 "nbformat": 4,
 "nbformat_minor": 2
}
