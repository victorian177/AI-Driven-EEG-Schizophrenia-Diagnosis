{
 "cells": [
  {
   "cell_type": "code",
   "execution_count": 1,
   "metadata": {},
   "outputs": [
    {
     "name": "stdout",
     "output_type": "stream",
     "text": [
      "WARNING:tensorflow:From c:\\Users\\Victor Momodu\\Documents\\Programming\\Machine Learning\\Code\\AI-Driven-EEG-Schizophrenia-Diagnosis\\.venv\\Lib\\site-packages\\keras\\src\\losses.py:2976: The name tf.losses.sparse_softmax_cross_entropy is deprecated. Please use tf.compat.v1.losses.sparse_softmax_cross_entropy instead.\n",
      "\n"
     ]
    }
   ],
   "source": [
    "import joblib\n",
    "import numpy as np\n",
    "from sklearn.model_selection import train_test_split\n",
    "from sklearn.preprocessing import LabelEncoder, StandardScaler\n",
    "from tensorflow.keras.callbacks import EarlyStopping\n",
    "from tensorflow.keras.layers import GRU, LSTM, Dense, SimpleRNN\n",
    "from tensorflow.keras.models import Sequential"
   ]
  },
  {
   "cell_type": "code",
   "execution_count": 2,
   "metadata": {},
   "outputs": [],
   "source": [
    "mmn_EGG_time_series = joblib.load(\"../features/mmnEEGtimeSeries.sav\")"
   ]
  },
  {
   "cell_type": "code",
   "execution_count": 3,
   "metadata": {},
   "outputs": [],
   "source": [
    "target = mmn_EGG_time_series[\"cateory\"].to_numpy()"
   ]
  },
  {
   "cell_type": "code",
   "execution_count": 4,
   "metadata": {},
   "outputs": [],
   "source": [
    "data = []\n",
    "for key, value in mmn_EGG_time_series[\"mmn_eeg\"].items():\n",
    "    data.append(value[\"1000Hz\"])\n",
    "\n",
    "data = np.array(data)"
   ]
  },
  {
   "cell_type": "code",
   "execution_count": 5,
   "metadata": {},
   "outputs": [
    {
     "data": {
      "text/plain": [
       "array([1, 1, 0, 0, 0, 0, 0, 0, 1, 1, 1, 1, 0, 0, 1, 1, 0, 0, 1, 1, 1, 1,\n",
       "       1, 0, 0, 1, 1, 0, 0, 0, 0, 0, 0, 0, 0, 0, 1, 1, 0, 0, 0, 0, 0, 1,\n",
       "       1])"
      ]
     },
     "execution_count": 5,
     "metadata": {},
     "output_type": "execute_result"
    }
   ],
   "source": [
    "encoder = LabelEncoder()\n",
    "labels = encoder.fit_transform(target)\n",
    "labels"
   ]
  },
  {
   "cell_type": "code",
   "execution_count": 6,
   "metadata": {},
   "outputs": [],
   "source": [
    "# Split the data into training and testing sets\n",
    "X_train, X_test, y_train, y_test = train_test_split(\n",
    "    data,\n",
    "    labels,\n",
    "    test_size=0.2,\n",
    "    random_state=42,\n",
    ")\n",
    "\n",
    "# Standardize the data\n",
    "scaler = StandardScaler()\n",
    "X_train_scaled = scaler.fit_transform(X_train.reshape(-1, X_train.shape[2]))\n",
    "X_test_scaled = scaler.transform(X_test.reshape(-1, X_test.shape[2]))"
   ]
  },
  {
   "cell_type": "code",
   "execution_count": 7,
   "metadata": {},
   "outputs": [
    {
     "name": "stdout",
     "output_type": "stream",
     "text": [
      "WARNING:tensorflow:From c:\\Users\\Victor Momodu\\Documents\\Programming\\Machine Learning\\Code\\AI-Driven-EEG-Schizophrenia-Diagnosis\\.venv\\Lib\\site-packages\\keras\\src\\backend.py:873: The name tf.get_default_graph is deprecated. Please use tf.compat.v1.get_default_graph instead.\n",
      "\n",
      "WARNING:tensorflow:From c:\\Users\\Victor Momodu\\Documents\\Programming\\Machine Learning\\Code\\AI-Driven-EEG-Schizophrenia-Diagnosis\\.venv\\Lib\\site-packages\\keras\\src\\optimizers\\__init__.py:309: The name tf.train.Optimizer is deprecated. Please use tf.compat.v1.train.Optimizer instead.\n",
      "\n",
      "Epoch 1/10\n",
      "WARNING:tensorflow:From c:\\Users\\Victor Momodu\\Documents\\Programming\\Machine Learning\\Code\\AI-Driven-EEG-Schizophrenia-Diagnosis\\.venv\\Lib\\site-packages\\keras\\src\\utils\\tf_utils.py:492: The name tf.ragged.RaggedTensorValue is deprecated. Please use tf.compat.v1.ragged.RaggedTensorValue instead.\n",
      "\n",
      "WARNING:tensorflow:From c:\\Users\\Victor Momodu\\Documents\\Programming\\Machine Learning\\Code\\AI-Driven-EEG-Schizophrenia-Diagnosis\\.venv\\Lib\\site-packages\\keras\\src\\engine\\base_layer_utils.py:384: The name tf.executing_eagerly_outside_functions is deprecated. Please use tf.compat.v1.executing_eagerly_outside_functions instead.\n",
      "\n",
      "5/5 [==============================] - 6s 260ms/step - loss: 0.7405 - accuracy: 0.3889 - val_loss: 0.6903 - val_accuracy: 0.4444\n",
      "Epoch 2/10\n",
      "5/5 [==============================] - 0s 84ms/step - loss: 0.6617 - accuracy: 0.6389 - val_loss: 0.7018 - val_accuracy: 0.4444\n",
      "Epoch 3/10\n",
      "5/5 [==============================] - 0s 31ms/step - loss: 0.6023 - accuracy: 0.7778 - val_loss: 0.7163 - val_accuracy: 0.4444\n",
      "Epoch 4/10\n",
      "5/5 [==============================] - 0s 54ms/step - loss: 0.5541 - accuracy: 0.8333 - val_loss: 0.7241 - val_accuracy: 0.4444\n",
      "1/1 [==============================] - 0s 64ms/step - loss: 0.7241 - accuracy: 0.4444\n",
      "1/1 [==============================] - 1s 857ms/step\n"
     ]
    }
   ],
   "source": [
    "# Define LSTM model\n",
    "lstm_model = Sequential()\n",
    "lstm_model.add(\n",
    "    LSTM(\n",
    "        units=50,\n",
    "        return_sequences=False,\n",
    "        input_shape=(X_train.shape[1], X_train.shape[2]),\n",
    "    )\n",
    ")\n",
    "lstm_model.add(Dense(units=1, activation=\"sigmoid\"))\n",
    "\n",
    "loss_fn = \"binary_crossentropy\"\n",
    "optimizer = \"adam\"\n",
    "\n",
    "# Compile the model\n",
    "lstm_model.compile(loss=loss_fn, optimizer=optimizer, metrics=[\"accuracy\"])\n",
    "\n",
    "# Add early stopping to prevent overfitting\n",
    "early_stopping = EarlyStopping(monitor=\"val_loss\", patience=3)\n",
    "\n",
    "# Train the model\n",
    "lstm_model.fit(\n",
    "    X_train_scaled.reshape(X_train.shape),\n",
    "    y_train,\n",
    "    epochs=10,\n",
    "    batch_size=8,\n",
    "    validation_data=(X_test_scaled.reshape(X_test.shape), y_test),\n",
    "    callbacks=[early_stopping],\n",
    ")\n",
    "\n",
    "# Evaluate the model\n",
    "lstm_model.evaluate(X_test_scaled.reshape(X_test.shape), y_test)\n",
    "\n",
    "# Make predictions\n",
    "predictions = lstm_model.predict(X_test_scaled.reshape(X_test.shape))\n"
   ]
  },
  {
   "cell_type": "code",
   "execution_count": 8,
   "metadata": {},
   "outputs": [
    {
     "name": "stdout",
     "output_type": "stream",
     "text": [
      "Epoch 1/10\n",
      "5/5 [==============================] - 4s 110ms/step - loss: 0.7188 - accuracy: 0.5278 - val_loss: 1.1720 - val_accuracy: 0.3333\n",
      "Epoch 2/10\n",
      "5/5 [==============================] - 0s 22ms/step - loss: 0.5568 - accuracy: 0.7222 - val_loss: 1.1860 - val_accuracy: 0.2222\n",
      "Epoch 3/10\n",
      "5/5 [==============================] - 0s 23ms/step - loss: 0.4940 - accuracy: 0.8056 - val_loss: 1.2276 - val_accuracy: 0.1111\n",
      "Epoch 4/10\n",
      "5/5 [==============================] - 0s 22ms/step - loss: 0.4453 - accuracy: 0.8056 - val_loss: 1.2296 - val_accuracy: 0.1111\n",
      "1/1 [==============================] - 0s 31ms/step - loss: 1.2296 - accuracy: 0.1111\n",
      "1/1 [==============================] - 1s 613ms/step\n"
     ]
    }
   ],
   "source": [
    "# Define Simple RNN model\n",
    "simplernn_model = Sequential()\n",
    "simplernn_model.add(\n",
    "    SimpleRNN(\n",
    "        units=50,\n",
    "        return_sequences=False,\n",
    "        input_shape=(X_train.shape[1], X_train.shape[2]),\n",
    "    )\n",
    ")\n",
    "simplernn_model.add(Dense(units=1, activation=\"sigmoid\"))\n",
    "\n",
    "loss_fn = \"binary_crossentropy\"\n",
    "optimizer = \"adam\"\n",
    "\n",
    "# Compile the model\n",
    "simplernn_model.compile(loss=loss_fn, optimizer=optimizer, metrics=[\"accuracy\"])\n",
    "\n",
    "# Add early stopping to prevent overfitting\n",
    "early_stopping = EarlyStopping(monitor=\"val_loss\", patience=3)\n",
    "\n",
    "# Train the model\n",
    "simplernn_model.fit(\n",
    "    X_train_scaled.reshape(X_train.shape),\n",
    "    y_train,\n",
    "    epochs=10,\n",
    "    batch_size=8,\n",
    "    validation_data=(X_test_scaled.reshape(X_test.shape), y_test),\n",
    "    callbacks=[early_stopping],\n",
    ")\n",
    "\n",
    "# Evaluate the model\n",
    "simplernn_model.evaluate(X_test_scaled.reshape(X_test.shape), y_test)\n",
    "\n",
    "# Make predictions\n",
    "predictions = simplernn_model.predict(X_test_scaled.reshape(X_test.shape))"
   ]
  },
  {
   "cell_type": "code",
   "execution_count": 9,
   "metadata": {},
   "outputs": [
    {
     "name": "stdout",
     "output_type": "stream",
     "text": [
      "Epoch 1/10\n",
      "5/5 [==============================] - 7s 447ms/step - loss: 0.7376 - accuracy: 0.4444 - val_loss: 0.6696 - val_accuracy: 0.4444\n",
      "Epoch 2/10\n",
      "5/5 [==============================] - 0s 39ms/step - loss: 0.6312 - accuracy: 0.6389 - val_loss: 0.6960 - val_accuracy: 0.4444\n",
      "Epoch 3/10\n",
      "5/5 [==============================] - 0s 39ms/step - loss: 0.5652 - accuracy: 0.8333 - val_loss: 0.7373 - val_accuracy: 0.4444\n",
      "Epoch 4/10\n",
      "5/5 [==============================] - 0s 37ms/step - loss: 0.5173 - accuracy: 0.8611 - val_loss: 0.7671 - val_accuracy: 0.4444\n",
      "1/1 [==============================] - 0s 47ms/step - loss: 0.7671 - accuracy: 0.4444\n",
      "1/1 [==============================] - 1s 653ms/step\n"
     ]
    }
   ],
   "source": [
    "# Define Simple RNN model\n",
    "gru_model = Sequential()\n",
    "gru_model.add(\n",
    "    GRU(\n",
    "        units=50,\n",
    "        return_sequences=False,\n",
    "        input_shape=(X_train.shape[1], X_train.shape[2]),\n",
    "    )\n",
    ")\n",
    "gru_model.add(Dense(units=1, activation=\"sigmoid\"))\n",
    "\n",
    "loss_fn = \"binary_crossentropy\"\n",
    "optimizer = \"adam\"\n",
    "\n",
    "# Compile the model\n",
    "gru_model.compile(loss=loss_fn, optimizer=optimizer, metrics=[\"accuracy\"])\n",
    "\n",
    "# Add early stopping to prevent overfitting\n",
    "early_stopping = EarlyStopping(monitor=\"val_loss\", patience=3)\n",
    "\n",
    "# Train the model\n",
    "gru_model.fit(\n",
    "    X_train_scaled.reshape(X_train.shape),\n",
    "    y_train,\n",
    "    epochs=10,\n",
    "    batch_size=8,\n",
    "    validation_data=(X_test_scaled.reshape(X_test.shape), y_test),\n",
    "    callbacks=[early_stopping],\n",
    ")\n",
    "\n",
    "# Evaluate the model\n",
    "gru_model.evaluate(X_test_scaled.reshape(X_test.shape), y_test)\n",
    "\n",
    "# Make predictions\n",
    "predictions = gru_model.predict(X_test_scaled.reshape(X_test.shape))"
   ]
  }
 ],
 "metadata": {
  "kernelspec": {
   "display_name": ".venv",
   "language": "python",
   "name": "python3"
  },
  "language_info": {
   "codemirror_mode": {
    "name": "ipython",
    "version": 3
   },
   "file_extension": ".py",
   "mimetype": "text/x-python",
   "name": "python",
   "nbconvert_exporter": "python",
   "pygments_lexer": "ipython3",
   "version": "3.11.4"
  }
 },
 "nbformat": 4,
 "nbformat_minor": 2
}
