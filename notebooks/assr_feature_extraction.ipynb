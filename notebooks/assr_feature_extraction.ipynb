{
 "cells": [
  {
   "cell_type": "code",
   "execution_count": null,
   "metadata": {},
   "outputs": [],
   "source": [
    "import pandas as pd\n",
    "import numpy as np\n",
    "import matplotlib.pyplot as plt"
   ]
  },
  {
   "cell_type": "code",
   "execution_count": null,
   "metadata": {},
   "outputs": [],
   "source": [
    "participant_trial_df = pd.read_csv(\"../data/Participant Trial Data.csv\")\n",
    "participant_trial_df.dropna(inplace=True)\n",
    "participant_trial_df.reset_index(drop=True, inplace=True)\n",
    "\n",
    "participant_df = pd.read_csv(\"../data/Participant Data.csv\")"
   ]
  }
 ],
 "metadata": {
  "kernelspec": {
   "display_name": ".venv",
   "language": "python",
   "name": "python3"
  },
  "language_info": {
   "name": "python",
   "version": "3.11.4"
  }
 },
 "nbformat": 4,
 "nbformat_minor": 2
}
