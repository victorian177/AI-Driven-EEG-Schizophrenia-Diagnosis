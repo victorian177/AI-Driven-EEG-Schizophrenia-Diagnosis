{
 "cells": [
  {
   "cell_type": "code",
   "execution_count": 33,
   "metadata": {},
   "outputs": [],
   "source": [
    "import joblib\n",
    "import numpy as np"
   ]
  },
  {
   "cell_type": "code",
   "execution_count": 34,
   "metadata": {},
   "outputs": [],
   "source": [
    "filename = \"../data/ASSR.sav\"\n",
    "assr_data = joblib.load(filename)"
   ]
  },
  {
   "cell_type": "code",
   "execution_count": 35,
   "metadata": {},
   "outputs": [
    {
     "data": {
      "text/plain": [
       "dict_keys(['1stRest_assr', '2ndRest_assr', 'aud_assr', 'category'])"
      ]
     },
     "execution_count": 35,
     "metadata": {},
     "output_type": "execute_result"
    }
   ],
   "source": [
    "assr_data.keys()"
   ]
  },
  {
   "cell_type": "code",
   "execution_count": 36,
   "metadata": {},
   "outputs": [],
   "source": [
    "def extract_ASSR_from_data(key):\n",
    "    features = []\n",
    "    labels = []\n",
    "\n",
    "    for i in assr_data[\"1stRest_assr\"]:\n",
    "        assr = list(assr_data[key][i][0])\n",
    "        assr += list(assr_data[key][i][1])\n",
    "\n",
    "        features.append(assr)\n",
    "        labels.append(assr_data[\"category\"][i])\n",
    "\n",
    "    return np.array(features), np.array(labels)"
   ]
  },
  {
   "cell_type": "code",
   "execution_count": 37,
   "metadata": {},
   "outputs": [],
   "source": [
    "first_rest_ASSR_features, first_rest_ASSR_labels = extract_ASSR_from_data(\n",
    "    \"1stRest_assr\"\n",
    ")\n",
    "second_rest_ASSR_features, second_rest_ASSR_labels = extract_ASSR_from_data(\n",
    "    \"2ndRest_assr\"\n",
    ")\n",
    "aud_ASSR_features, aud_ASSR_labels = extract_ASSR_from_data(\"aud_assr\")"
   ]
  },
  {
   "cell_type": "code",
   "execution_count": 38,
   "metadata": {},
   "outputs": [],
   "source": [
    "datasets = {\n",
    "    \"Rest 1\": (first_rest_ASSR_features, first_rest_ASSR_labels),\n",
    "    \"Rest 2\": (second_rest_ASSR_features, second_rest_ASSR_labels),\n",
    "    \"Aud\": (aud_ASSR_features, aud_ASSR_labels),\n",
    "}"
   ]
  },
  {
   "cell_type": "code",
   "execution_count": 40,
   "metadata": {},
   "outputs": [
    {
     "name": "stdout",
     "output_type": "stream",
     "text": [
      "Rest 1\n",
      "Accuracy: 0.4\n",
      "\n",
      "Rest 2\n",
      "Accuracy: 0.6\n",
      "\n",
      "Aud\n",
      "Accuracy: 0.4\n",
      "\n"
     ]
    }
   ],
   "source": [
    "from sklearn.model_selection import train_test_split\n",
    "from sklearn.svm import SVC\n",
    "from sklearn.metrics import accuracy_score\n",
    "\n",
    "\n",
    "for d in datasets:\n",
    "    print(d)\n",
    "    X = datasets[d][0]\n",
    "    y = datasets[d][1]\n",
    "\n",
    "    X_train, X_test, y_train, y_test = train_test_split(\n",
    "        X, y, test_size=0.1, random_state=0\n",
    "    )\n",
    "\n",
    "    model = SVC()\n",
    "    model.fit(X_train, y_train)\n",
    "\n",
    "    y_pred = model.predict(X_test)\n",
    "    accuracy = accuracy_score(y_test, y_pred)\n",
    "\n",
    "    print(\"Accuracy:\", accuracy)\n",
    "    print()"
   ]
  }
 ],
 "metadata": {
  "kernelspec": {
   "display_name": ".venv",
   "language": "python",
   "name": "python3"
  },
  "language_info": {
   "codemirror_mode": {
    "name": "ipython",
    "version": 3
   },
   "file_extension": ".py",
   "mimetype": "text/x-python",
   "name": "python",
   "nbconvert_exporter": "python",
   "pygments_lexer": "ipython3",
   "version": "3.11.4"
  }
 },
 "nbformat": 4,
 "nbformat_minor": 2
}
