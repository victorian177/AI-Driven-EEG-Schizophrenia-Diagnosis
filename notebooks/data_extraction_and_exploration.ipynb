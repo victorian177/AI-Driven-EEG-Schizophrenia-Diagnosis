{
 "cells": [
  {
   "cell_type": "markdown",
   "metadata": {},
   "source": [
    "Import libraries"
   ]
  },
  {
   "cell_type": "code",
   "execution_count": 1,
   "metadata": {},
   "outputs": [],
   "source": [
    "import os\n",
    "\n",
    "import pandas as pd\n",
    "import pyedflib"
   ]
  },
  {
   "cell_type": "markdown",
   "metadata": {},
   "source": [
    "Function to extract relevant EEG data from a EDF file"
   ]
  },
  {
   "cell_type": "code",
   "execution_count": 2,
   "metadata": {},
   "outputs": [],
   "source": [
    "def extract_EEG_data_from_EDF(file_path):\n",
    "    # Dictionary to store extracted information\n",
    "    edf_data = {}\n",
    "\n",
    "    # Open the EDF file\n",
    "    try:\n",
    "        f = pyedflib.EdfReader(file_path)\n",
    "\n",
    "        # Extract header information\n",
    "        edf_data[\"parameters\"] = {\n",
    "            \"dimension\": f.getPhysicalDimension(0),\n",
    "            \"sample_frequency\": f.getSampleFrequency(0),\n",
    "            \"duration\": f.file_duration,\n",
    "            \"signal_length\": f.getNSamples()[0],\n",
    "            \"event_marker_length\": len(f.readAnnotations()[0]),\n",
    "        }\n",
    "\n",
    "        # Extract signal data\n",
    "        signal_labels = f.getSignalLabels()\n",
    "        edf_data[\"signal_data\"] = {}\n",
    "\n",
    "        for i in range(f.signals_in_file):\n",
    "            signal_data = f.readSignal(i)\n",
    "            edf_data[\"signal_data\"][signal_labels[i]] = signal_data\n",
    "\n",
    "        # Extract annotations (event markers)\n",
    "        edf_data[\"event_markers\"] = {}\n",
    "        edf_data[\"event_markers\"][\"onset\"] = f.readAnnotations()[0]\n",
    "        edf_data[\"event_markers\"][\"description\"] = f.readAnnotations()[2]\n",
    "\n",
    "        # Close the EDF file\n",
    "        f.close()\n",
    "\n",
    "    except Exception as e:\n",
    "        pass\n",
    "\n",
    "    return edf_data"
   ]
  },
  {
   "cell_type": "markdown",
   "metadata": {},
   "source": [
    "Extract "
   ]
  },
  {
   "cell_type": "code",
   "execution_count": 4,
   "metadata": {},
   "outputs": [],
   "source": [
    "dataset_dir = \"../acquired_dataset\""
   ]
  },
  {
   "cell_type": "code",
   "execution_count": 5,
   "metadata": {},
   "outputs": [],
   "source": [
    "# Dictionary to store participant-level information\n",
    "participant_data = {\"id\": [], \"age\": [], \"sex\": [], \"category\": []}\n",
    "\n",
    "# Dictionary to store participant trial-level information\n",
    "participant_trial_data = {\n",
    "    \"id_trial_phase\": [],\n",
    "    \"id\": [],\n",
    "    \"phase\": [],\n",
    "    \"signal_length\": [],\n",
    "    \"event_marker_length\": [],\n",
    "    \"sample_frequency\": [],\n",
    "    \"duration\": [],\n",
    "}\n",
    "\n",
    "# Loop through participant IDs in the dataset directory\n",
    "for id in os.listdir(dataset_dir):\n",
    "    # Append participant ID to the \"id\" list in the participant_data dictionary\n",
    "    participant_data[\"id\"].append(id)\n",
    "\n",
    "    # Open the userfile.gnr file for the current participant\n",
    "    with open(f\"{dataset_dir}/{id}/userfile.gnr\", \"r\") as gnr_file:\n",
    "        # Read lines from the file and extract participant information\n",
    "        file_data = gnr_file.readlines()\n",
    "        participant_data[\"age\"].append(int(file_data[3].strip().split(\"=\")[1]))\n",
    "        participant_data[\"sex\"].append(file_data[4].strip().split(\"=\")[1])\n",
    "        participant_data[\"category\"].append(file_data[5].strip().split(\"=\")[1])\n",
    "\n",
    "    # Get a list of trial directories for the current participant\n",
    "    trials_dir = [\n",
    "        directory\n",
    "        for directory in os.listdir(f\"{dataset_dir}/{id}\")\n",
    "        if os.path.isdir(f\"{dataset_dir}/{id}/{directory}\")\n",
    "    ]\n",
    "\n",
    "    # Loop through trials for the current participant\n",
    "    for trial in trials_dir:\n",
    "        # Loop through the four phases of each trial\n",
    "        for phase in range(1, 5):\n",
    "            # Extract EEG data from the EDF file for the current phase\n",
    "            edf_data = extract_EEG_data_from_EDF(\n",
    "                f\"{dataset_dir}/{id}/{trial}/Phase {phase}.edf\"\n",
    "            )\n",
    "\n",
    "            # Append id-trial-phase-specific information\n",
    "            participant_trial_data[\"id\"].append(id)\n",
    "            participant_trial_data[\"phase\"].append(phase)\n",
    "            participant_trial_data[\"id_trial_phase\"].append(f\"{id}_{trial}_{phase}\")\n",
    "\n",
    "            # Check if EEG data extraction was successful\n",
    "            if edf_data:\n",
    "                participant_trial_data[\"sample_frequency\"].append(\n",
    "                    edf_data[\"parameters\"][\"sample_frequency\"]\n",
    "                )\n",
    "                participant_trial_data[\"signal_length\"].append(\n",
    "                    edf_data[\"parameters\"][\"signal_length\"]\n",
    "                )\n",
    "                participant_trial_data[\"event_marker_length\"].append(\n",
    "                    edf_data[\"parameters\"][\"event_marker_length\"]\n",
    "                )\n",
    "                participant_trial_data[\"duration\"].append(\n",
    "                    edf_data[\"parameters\"][\"duration\"]\n",
    "                )\n",
    "\n",
    "                # Save EEG signal data\n",
    "                pd.DataFrame(edf_data[\"signal_data\"]).to_csv(\n",
    "                    f\"../data/signal_data/{id}_{trial}_{phase}.csv\",\n",
    "                    index=False,\n",
    "                )\n",
    "\n",
    "                # Save event marker data for arithmetic task and auditory stimuli phases\n",
    "                if phase == 4:\n",
    "                    pd.DataFrame(edf_data[\"event_markers\"]).to_csv(\n",
    "                        f\"../data/event_markers/{id}_{trial}_{phase}.csv\",\n",
    "                        index=False,\n",
    "                    )\n",
    "            else:\n",
    "                participant_trial_data[\"sample_frequency\"].append(None)\n",
    "                participant_trial_data[\"signal_length\"].append(None)\n",
    "                participant_trial_data[\"event_marker_length\"].append(None)\n",
    "                participant_trial_data[\"duration\"].append(None)"
   ]
  },
  {
   "cell_type": "markdown",
   "metadata": {},
   "source": [
    "Store as pandas DataFrame and save data extracted"
   ]
  },
  {
   "cell_type": "code",
   "execution_count": null,
   "metadata": {},
   "outputs": [],
   "source": [
    "participant_df = pd.DataFrame(participant_data)\n",
    "participant_trial_df = pd.DataFrame(participant_trial_data)"
   ]
  },
  {
   "cell_type": "code",
   "execution_count": null,
   "metadata": {},
   "outputs": [],
   "source": [
    "participant_df.to_csv(\"../data/Participant Data.csv\", index=False)\n",
    "participant_trial_df.to_csv(\"../data/Participant Trial Data.csv\", index=False)"
   ]
  }
 ],
 "metadata": {
  "kernelspec": {
   "display_name": ".venv",
   "language": "python",
   "name": "python3"
  },
  "language_info": {
   "codemirror_mode": {
    "name": "ipython",
    "version": 3
   },
   "file_extension": ".py",
   "mimetype": "text/x-python",
   "name": "python",
   "nbconvert_exporter": "python",
   "pygments_lexer": "ipython3",
   "version": "3.11.4"
  }
 },
 "nbformat": 4,
 "nbformat_minor": 2
}
